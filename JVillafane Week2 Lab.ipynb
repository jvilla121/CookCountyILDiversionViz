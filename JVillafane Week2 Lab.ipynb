{
 "cells": [
  {
   "cell_type": "code",
   "execution_count": 1,
   "metadata": {},
   "outputs": [],
   "source": [
    "import pandas as pd\n",
    "from pandas_profiling import ProfileReport\n",
    "\n",
    "import matplotlib.pyplot as plt\n",
    "import seaborn as sns\n",
    "\n",
    "# A little magic so we can see graphs\n",
    "%matplotlib inline  \n",
    "\n",
    "# overrides matplotlib\n",
    "sns.set()\n",
    "\n",
    "# import DataFrameSummary\n",
    "from pandas_summary import DataFrameSummary"
   ]
  },
  {
   "cell_type": "markdown",
   "metadata": {},
   "source": [
    "Importing diversion dataset"
   ]
  },
  {
   "cell_type": "code",
   "execution_count": 2,
   "metadata": {},
   "outputs": [],
   "source": [
    "#import data\n",
    "df = pd.read_csv('data_backup_4-2021/Diversion.csv')"
   ]
  },
  {
   "cell_type": "markdown",
   "metadata": {},
   "source": [
    "Looking to see the columns, data types, and how many records/null's per column there are:"
   ]
  },
  {
   "cell_type": "code",
   "execution_count": 3,
   "metadata": {
    "scrolled": true
   },
   "outputs": [
    {
     "name": "stdout",
     "output_type": "stream",
     "text": [
      "<class 'pandas.core.frame.DataFrame'>\n",
      "RangeIndex: 22508 entries, 0 to 22507\n",
      "Data columns (total 13 columns):\n",
      " #   Column                        Non-Null Count  Dtype \n",
      "---  ------                        --------------  ----- \n",
      " 0   CASE_ID                       22508 non-null  int64 \n",
      " 1   CASE_PARTICIPANT_ID           22508 non-null  int64 \n",
      " 2   RECEIVED_DATE                 22508 non-null  object\n",
      " 3   OFFENSE_CATEGORY              22508 non-null  object\n",
      " 4   DIVERSION_PROGRAM             22508 non-null  object\n",
      " 5   REFERRAL_DATE                 22508 non-null  object\n",
      " 6   DIVERSION_COUNT               22508 non-null  int64 \n",
      " 7   PRIMARY_CHARGE_OFFENSE_TITLE  22508 non-null  object\n",
      " 8   STATUTE                       22508 non-null  object\n",
      " 9   RACE                          22508 non-null  object\n",
      " 10  GENDER                        22508 non-null  object\n",
      " 11  DIVERSION_RESULT              17393 non-null  object\n",
      " 12  DIVERSION_CLOSED_DATE         17393 non-null  object\n",
      "dtypes: int64(3), object(10)\n",
      "memory usage: 2.2+ MB\n"
     ]
    }
   ],
   "source": [
    "df.info()"
   ]
  },
  {
   "cell_type": "code",
   "execution_count": 4,
   "metadata": {},
   "outputs": [
    {
     "data": {
      "text/html": [
       "<div>\n",
       "<style scoped>\n",
       "    .dataframe tbody tr th:only-of-type {\n",
       "        vertical-align: middle;\n",
       "    }\n",
       "\n",
       "    .dataframe tbody tr th {\n",
       "        vertical-align: top;\n",
       "    }\n",
       "\n",
       "    .dataframe thead th {\n",
       "        text-align: right;\n",
       "    }\n",
       "</style>\n",
       "<table border=\"1\" class=\"dataframe\">\n",
       "  <thead>\n",
       "    <tr style=\"text-align: right;\">\n",
       "      <th></th>\n",
       "      <th>CASE_ID</th>\n",
       "      <th>CASE_PARTICIPANT_ID</th>\n",
       "      <th>RECEIVED_DATE</th>\n",
       "      <th>OFFENSE_CATEGORY</th>\n",
       "      <th>DIVERSION_PROGRAM</th>\n",
       "      <th>REFERRAL_DATE</th>\n",
       "      <th>DIVERSION_COUNT</th>\n",
       "      <th>PRIMARY_CHARGE_OFFENSE_TITLE</th>\n",
       "      <th>STATUTE</th>\n",
       "      <th>RACE</th>\n",
       "      <th>GENDER</th>\n",
       "      <th>DIVERSION_RESULT</th>\n",
       "      <th>DIVERSION_CLOSED_DATE</th>\n",
       "    </tr>\n",
       "  </thead>\n",
       "  <tbody>\n",
       "    <tr>\n",
       "      <th>0</th>\n",
       "      <td>382673022762</td>\n",
       "      <td>710725949269</td>\n",
       "      <td>01/01/2011 12:00:00 AM</td>\n",
       "      <td>Retail Theft</td>\n",
       "      <td>DS</td>\n",
       "      <td>06/17/2013 12:00:00 AM</td>\n",
       "      <td>2</td>\n",
       "      <td>RETAIL THEFT</td>\n",
       "      <td>720 ILCS 5/16A-3(a)</td>\n",
       "      <td>Black</td>\n",
       "      <td>Male</td>\n",
       "      <td>Graduated</td>\n",
       "      <td>06/17/2013 12:00:00 AM</td>\n",
       "    </tr>\n",
       "    <tr>\n",
       "      <th>1</th>\n",
       "      <td>382673022762</td>\n",
       "      <td>710725949269</td>\n",
       "      <td>01/01/2011 12:00:00 AM</td>\n",
       "      <td>Retail Theft</td>\n",
       "      <td>VC</td>\n",
       "      <td>08/11/2011 12:00:00 AM</td>\n",
       "      <td>1</td>\n",
       "      <td>RETAIL THEFT</td>\n",
       "      <td>720 ILCS 5/16A-3(a)</td>\n",
       "      <td>Black</td>\n",
       "      <td>Male</td>\n",
       "      <td>NaN</td>\n",
       "      <td>NaN</td>\n",
       "    </tr>\n",
       "    <tr>\n",
       "      <th>2</th>\n",
       "      <td>382676253565</td>\n",
       "      <td>710735386491</td>\n",
       "      <td>01/02/2011 12:00:00 AM</td>\n",
       "      <td>Retail Theft</td>\n",
       "      <td>MHC</td>\n",
       "      <td>09/14/2012 12:00:00 AM</td>\n",
       "      <td>1</td>\n",
       "      <td>RETAIL THEFT</td>\n",
       "      <td>720 ILCS 5/16A-3(a)</td>\n",
       "      <td>Black</td>\n",
       "      <td>Male</td>\n",
       "      <td>Failed</td>\n",
       "      <td>09/14/2012 12:00:00 AM</td>\n",
       "    </tr>\n",
       "    <tr>\n",
       "      <th>3</th>\n",
       "      <td>382680365495</td>\n",
       "      <td>710746899902</td>\n",
       "      <td>01/03/2011 12:00:00 AM</td>\n",
       "      <td>Narcotics</td>\n",
       "      <td>MHC</td>\n",
       "      <td>07/27/2018 12:00:00 AM</td>\n",
       "      <td>1</td>\n",
       "      <td>[POSSESSION OF CONTROLLED SUBSTANCE WITH INTEN...</td>\n",
       "      <td>720 ILCS 570/401(d)(i)</td>\n",
       "      <td>Black</td>\n",
       "      <td>Female</td>\n",
       "      <td>NaN</td>\n",
       "      <td>NaN</td>\n",
       "    </tr>\n",
       "    <tr>\n",
       "      <th>4</th>\n",
       "      <td>382680365495</td>\n",
       "      <td>710746994274</td>\n",
       "      <td>01/03/2011 12:00:00 AM</td>\n",
       "      <td>Narcotics</td>\n",
       "      <td>MHC</td>\n",
       "      <td>07/27/2018 12:00:00 AM</td>\n",
       "      <td>1</td>\n",
       "      <td>POSSESSION OF A CONTROLLED SUBSTANCE</td>\n",
       "      <td>720 ILCS 570/402(c)</td>\n",
       "      <td>White</td>\n",
       "      <td>Male</td>\n",
       "      <td>NaN</td>\n",
       "      <td>NaN</td>\n",
       "    </tr>\n",
       "    <tr>\n",
       "      <th>5</th>\n",
       "      <td>382688736212</td>\n",
       "      <td>710769171745</td>\n",
       "      <td>01/03/2011 12:00:00 AM</td>\n",
       "      <td>Narcotics</td>\n",
       "      <td>DS</td>\n",
       "      <td>01/19/2011 12:00:00 AM</td>\n",
       "      <td>1</td>\n",
       "      <td>POSSESSION OF A CONTROLLED SUBSTANCE</td>\n",
       "      <td>720 ILCS 570/402(c)</td>\n",
       "      <td>White</td>\n",
       "      <td>Male</td>\n",
       "      <td>Graduated</td>\n",
       "      <td>05/13/2011 12:00:00 AM</td>\n",
       "    </tr>\n",
       "    <tr>\n",
       "      <th>6</th>\n",
       "      <td>382696666364</td>\n",
       "      <td>710792198566</td>\n",
       "      <td>01/03/2011 12:00:00 AM</td>\n",
       "      <td>Narcotics</td>\n",
       "      <td>DS</td>\n",
       "      <td>01/18/2011 12:00:00 AM</td>\n",
       "      <td>1</td>\n",
       "      <td>POSSESSION OF A CONTROLLED SUBSTANCE</td>\n",
       "      <td>720 ILCS 570/402(c)</td>\n",
       "      <td>Latinx</td>\n",
       "      <td>Male</td>\n",
       "      <td>Graduated</td>\n",
       "      <td>05/13/2011 12:00:00 AM</td>\n",
       "    </tr>\n",
       "    <tr>\n",
       "      <th>7</th>\n",
       "      <td>382696813219</td>\n",
       "      <td>710792670427</td>\n",
       "      <td>01/03/2011 12:00:00 AM</td>\n",
       "      <td>Narcotics</td>\n",
       "      <td>DS</td>\n",
       "      <td>01/20/2011 12:00:00 AM</td>\n",
       "      <td>1</td>\n",
       "      <td>POSSESSION OF A CONTROLLED SUBSTANCE</td>\n",
       "      <td>720 ILCS 570/402(c)</td>\n",
       "      <td>Black</td>\n",
       "      <td>Male</td>\n",
       "      <td>Graduated</td>\n",
       "      <td>05/13/2011 12:00:00 AM</td>\n",
       "    </tr>\n",
       "    <tr>\n",
       "      <th>8</th>\n",
       "      <td>382696960073</td>\n",
       "      <td>710792764800</td>\n",
       "      <td>01/01/2011 12:00:00 AM</td>\n",
       "      <td>Narcotics</td>\n",
       "      <td>DS</td>\n",
       "      <td>03/03/2011 12:00:00 AM</td>\n",
       "      <td>1</td>\n",
       "      <td>POSSESSION OF A CONTROLLED SUBSTANCE</td>\n",
       "      <td>720 ILCS 570/402(c)</td>\n",
       "      <td>Black</td>\n",
       "      <td>Male</td>\n",
       "      <td>Graduated</td>\n",
       "      <td>03/03/2011 12:00:00 AM</td>\n",
       "    </tr>\n",
       "    <tr>\n",
       "      <th>9</th>\n",
       "      <td>382697400637</td>\n",
       "      <td>710793802894</td>\n",
       "      <td>01/02/2011 12:00:00 AM</td>\n",
       "      <td>Narcotics</td>\n",
       "      <td>DS</td>\n",
       "      <td>07/26/2011 12:00:00 AM</td>\n",
       "      <td>1</td>\n",
       "      <td>[POSSESSION OF CANNABIS WITH INTENT TO DELIVER...</td>\n",
       "      <td>720 ILCS 550/5(c)</td>\n",
       "      <td>Black</td>\n",
       "      <td>Male</td>\n",
       "      <td>NaN</td>\n",
       "      <td>NaN</td>\n",
       "    </tr>\n",
       "    <tr>\n",
       "      <th>10</th>\n",
       "      <td>382699750312</td>\n",
       "      <td>710800597694</td>\n",
       "      <td>01/03/2011 12:00:00 AM</td>\n",
       "      <td>Narcotics</td>\n",
       "      <td>DS</td>\n",
       "      <td>11/26/2012 12:00:00 AM</td>\n",
       "      <td>1</td>\n",
       "      <td>POSSESSION OF A CONTROLLED SUBSTANCE</td>\n",
       "      <td>720 ILCS 570/402(c)</td>\n",
       "      <td>Latinx</td>\n",
       "      <td>Female</td>\n",
       "      <td>Graduated</td>\n",
       "      <td>02/13/2013 12:00:00 AM</td>\n",
       "    </tr>\n",
       "    <tr>\n",
       "      <th>11</th>\n",
       "      <td>382705918208</td>\n",
       "      <td>710823341398</td>\n",
       "      <td>01/04/2011 12:00:00 AM</td>\n",
       "      <td>Narcotics</td>\n",
       "      <td>DS</td>\n",
       "      <td>01/19/2011 12:00:00 AM</td>\n",
       "      <td>1</td>\n",
       "      <td>POSSESSION OF A CONTROLLED SUBSTANCE</td>\n",
       "      <td>720 ILCS 570/402(c)</td>\n",
       "      <td>White</td>\n",
       "      <td>Female</td>\n",
       "      <td>Graduated</td>\n",
       "      <td>05/13/2011 12:00:00 AM</td>\n",
       "    </tr>\n",
       "    <tr>\n",
       "      <th>12</th>\n",
       "      <td>382706946191</td>\n",
       "      <td>710826266937</td>\n",
       "      <td>01/04/2011 12:00:00 AM</td>\n",
       "      <td>Narcotics</td>\n",
       "      <td>DS</td>\n",
       "      <td>01/19/2011 12:00:00 AM</td>\n",
       "      <td>1</td>\n",
       "      <td>POSSESSION OF CANNABIS</td>\n",
       "      <td>720 ILCS 550/4(d)</td>\n",
       "      <td>Black</td>\n",
       "      <td>Male</td>\n",
       "      <td>Failed</td>\n",
       "      <td>05/13/2011 12:00:00 AM</td>\n",
       "    </tr>\n",
       "    <tr>\n",
       "      <th>13</th>\n",
       "      <td>382709736430</td>\n",
       "      <td>710835515414</td>\n",
       "      <td>01/04/2011 12:00:00 AM</td>\n",
       "      <td>Narcotics</td>\n",
       "      <td>DS</td>\n",
       "      <td>01/20/2011 12:00:00 AM</td>\n",
       "      <td>1</td>\n",
       "      <td>POSSESSION OF A CONTROLLED SUBSTANCE</td>\n",
       "      <td>720 ILCS 570/402(c)</td>\n",
       "      <td>White</td>\n",
       "      <td>Male</td>\n",
       "      <td>Graduated</td>\n",
       "      <td>05/13/2011 12:00:00 AM</td>\n",
       "    </tr>\n",
       "    <tr>\n",
       "      <th>14</th>\n",
       "      <td>382709736430</td>\n",
       "      <td>710835609786</td>\n",
       "      <td>01/04/2011 12:00:00 AM</td>\n",
       "      <td>Narcotics</td>\n",
       "      <td>DS</td>\n",
       "      <td>01/20/2011 12:00:00 AM</td>\n",
       "      <td>1</td>\n",
       "      <td>POSSESSION OF A CONTROLLED SUBSTANCE</td>\n",
       "      <td>720 ILCS 570/402(c)</td>\n",
       "      <td>White</td>\n",
       "      <td>Female</td>\n",
       "      <td>Graduated</td>\n",
       "      <td>05/13/2011 12:00:00 AM</td>\n",
       "    </tr>\n",
       "    <tr>\n",
       "      <th>15</th>\n",
       "      <td>382717519727</td>\n",
       "      <td>710856466047</td>\n",
       "      <td>01/04/2011 12:00:00 AM</td>\n",
       "      <td>Narcotics</td>\n",
       "      <td>DS</td>\n",
       "      <td>01/18/2011 12:00:00 AM</td>\n",
       "      <td>1</td>\n",
       "      <td>POSSESSION OF A CONTROLLED SUBSTANCE</td>\n",
       "      <td>720 ILCS 570/402(c)</td>\n",
       "      <td>White</td>\n",
       "      <td>Male</td>\n",
       "      <td>Graduated</td>\n",
       "      <td>05/13/2011 12:00:00 AM</td>\n",
       "    </tr>\n",
       "    <tr>\n",
       "      <th>16</th>\n",
       "      <td>382719135129</td>\n",
       "      <td>710860146563</td>\n",
       "      <td>01/04/2011 12:00:00 AM</td>\n",
       "      <td>Narcotics</td>\n",
       "      <td>DS</td>\n",
       "      <td>05/12/2011 12:00:00 AM</td>\n",
       "      <td>1</td>\n",
       "      <td>POSSESSION OF A CONTROLLED SUBSTANCE</td>\n",
       "      <td>720 ILCS 570/402(c)</td>\n",
       "      <td>Latinx</td>\n",
       "      <td>Male</td>\n",
       "      <td>Graduated</td>\n",
       "      <td>05/12/2011 12:00:00 AM</td>\n",
       "    </tr>\n",
       "    <tr>\n",
       "      <th>17</th>\n",
       "      <td>382719869402</td>\n",
       "      <td>710863355219</td>\n",
       "      <td>01/04/2011 12:00:00 AM</td>\n",
       "      <td>Narcotics</td>\n",
       "      <td>DS</td>\n",
       "      <td>01/20/2011 12:00:00 AM</td>\n",
       "      <td>1</td>\n",
       "      <td>POSSESSION OF CANNABIS</td>\n",
       "      <td>720 ILCS 550/4(d)</td>\n",
       "      <td>Black</td>\n",
       "      <td>Male</td>\n",
       "      <td>Graduated</td>\n",
       "      <td>05/13/2011 12:00:00 AM</td>\n",
       "    </tr>\n",
       "    <tr>\n",
       "      <th>18</th>\n",
       "      <td>382725743589</td>\n",
       "      <td>710884683340</td>\n",
       "      <td>01/04/2011 12:00:00 AM</td>\n",
       "      <td>Narcotics</td>\n",
       "      <td>DS</td>\n",
       "      <td>01/25/2011 12:00:00 AM</td>\n",
       "      <td>1</td>\n",
       "      <td>POSSESSION OF A CONTROLLED SUBSTANCE</td>\n",
       "      <td>720 ILCS 570/402(c)</td>\n",
       "      <td>Latinx</td>\n",
       "      <td>Female</td>\n",
       "      <td>NaN</td>\n",
       "      <td>NaN</td>\n",
       "    </tr>\n",
       "    <tr>\n",
       "      <th>19</th>\n",
       "      <td>382725890444</td>\n",
       "      <td>710885532690</td>\n",
       "      <td>01/01/2011 12:00:00 AM</td>\n",
       "      <td>Narcotics</td>\n",
       "      <td>DC</td>\n",
       "      <td>08/09/2012 12:00:00 AM</td>\n",
       "      <td>1</td>\n",
       "      <td>POSSESSION OF A CONTROLLED SUBSTANCE</td>\n",
       "      <td>720 ILCS 570/402(c)</td>\n",
       "      <td>White</td>\n",
       "      <td>Female</td>\n",
       "      <td>NaN</td>\n",
       "      <td>NaN</td>\n",
       "    </tr>\n",
       "  </tbody>\n",
       "</table>\n",
       "</div>"
      ],
      "text/plain": [
       "         CASE_ID  CASE_PARTICIPANT_ID           RECEIVED_DATE  \\\n",
       "0   382673022762         710725949269  01/01/2011 12:00:00 AM   \n",
       "1   382673022762         710725949269  01/01/2011 12:00:00 AM   \n",
       "2   382676253565         710735386491  01/02/2011 12:00:00 AM   \n",
       "3   382680365495         710746899902  01/03/2011 12:00:00 AM   \n",
       "4   382680365495         710746994274  01/03/2011 12:00:00 AM   \n",
       "5   382688736212         710769171745  01/03/2011 12:00:00 AM   \n",
       "6   382696666364         710792198566  01/03/2011 12:00:00 AM   \n",
       "7   382696813219         710792670427  01/03/2011 12:00:00 AM   \n",
       "8   382696960073         710792764800  01/01/2011 12:00:00 AM   \n",
       "9   382697400637         710793802894  01/02/2011 12:00:00 AM   \n",
       "10  382699750312         710800597694  01/03/2011 12:00:00 AM   \n",
       "11  382705918208         710823341398  01/04/2011 12:00:00 AM   \n",
       "12  382706946191         710826266937  01/04/2011 12:00:00 AM   \n",
       "13  382709736430         710835515414  01/04/2011 12:00:00 AM   \n",
       "14  382709736430         710835609786  01/04/2011 12:00:00 AM   \n",
       "15  382717519727         710856466047  01/04/2011 12:00:00 AM   \n",
       "16  382719135129         710860146563  01/04/2011 12:00:00 AM   \n",
       "17  382719869402         710863355219  01/04/2011 12:00:00 AM   \n",
       "18  382725743589         710884683340  01/04/2011 12:00:00 AM   \n",
       "19  382725890444         710885532690  01/01/2011 12:00:00 AM   \n",
       "\n",
       "   OFFENSE_CATEGORY DIVERSION_PROGRAM           REFERRAL_DATE  \\\n",
       "0      Retail Theft                DS  06/17/2013 12:00:00 AM   \n",
       "1      Retail Theft                VC  08/11/2011 12:00:00 AM   \n",
       "2      Retail Theft               MHC  09/14/2012 12:00:00 AM   \n",
       "3         Narcotics               MHC  07/27/2018 12:00:00 AM   \n",
       "4         Narcotics               MHC  07/27/2018 12:00:00 AM   \n",
       "5         Narcotics                DS  01/19/2011 12:00:00 AM   \n",
       "6         Narcotics                DS  01/18/2011 12:00:00 AM   \n",
       "7         Narcotics                DS  01/20/2011 12:00:00 AM   \n",
       "8         Narcotics                DS  03/03/2011 12:00:00 AM   \n",
       "9         Narcotics                DS  07/26/2011 12:00:00 AM   \n",
       "10        Narcotics                DS  11/26/2012 12:00:00 AM   \n",
       "11        Narcotics                DS  01/19/2011 12:00:00 AM   \n",
       "12        Narcotics                DS  01/19/2011 12:00:00 AM   \n",
       "13        Narcotics                DS  01/20/2011 12:00:00 AM   \n",
       "14        Narcotics                DS  01/20/2011 12:00:00 AM   \n",
       "15        Narcotics                DS  01/18/2011 12:00:00 AM   \n",
       "16        Narcotics                DS  05/12/2011 12:00:00 AM   \n",
       "17        Narcotics                DS  01/20/2011 12:00:00 AM   \n",
       "18        Narcotics                DS  01/25/2011 12:00:00 AM   \n",
       "19        Narcotics                DC  08/09/2012 12:00:00 AM   \n",
       "\n",
       "    DIVERSION_COUNT                       PRIMARY_CHARGE_OFFENSE_TITLE  \\\n",
       "0                 2                                       RETAIL THEFT   \n",
       "1                 1                                       RETAIL THEFT   \n",
       "2                 1                                       RETAIL THEFT   \n",
       "3                 1  [POSSESSION OF CONTROLLED SUBSTANCE WITH INTEN...   \n",
       "4                 1               POSSESSION OF A CONTROLLED SUBSTANCE   \n",
       "5                 1               POSSESSION OF A CONTROLLED SUBSTANCE   \n",
       "6                 1               POSSESSION OF A CONTROLLED SUBSTANCE   \n",
       "7                 1               POSSESSION OF A CONTROLLED SUBSTANCE   \n",
       "8                 1               POSSESSION OF A CONTROLLED SUBSTANCE   \n",
       "9                 1  [POSSESSION OF CANNABIS WITH INTENT TO DELIVER...   \n",
       "10                1               POSSESSION OF A CONTROLLED SUBSTANCE   \n",
       "11                1               POSSESSION OF A CONTROLLED SUBSTANCE   \n",
       "12                1                             POSSESSION OF CANNABIS   \n",
       "13                1               POSSESSION OF A CONTROLLED SUBSTANCE   \n",
       "14                1               POSSESSION OF A CONTROLLED SUBSTANCE   \n",
       "15                1               POSSESSION OF A CONTROLLED SUBSTANCE   \n",
       "16                1               POSSESSION OF A CONTROLLED SUBSTANCE   \n",
       "17                1                             POSSESSION OF CANNABIS   \n",
       "18                1               POSSESSION OF A CONTROLLED SUBSTANCE   \n",
       "19                1               POSSESSION OF A CONTROLLED SUBSTANCE   \n",
       "\n",
       "                   STATUTE    RACE  GENDER DIVERSION_RESULT  \\\n",
       "0      720 ILCS 5/16A-3(a)   Black    Male        Graduated   \n",
       "1      720 ILCS 5/16A-3(a)   Black    Male              NaN   \n",
       "2      720 ILCS 5/16A-3(a)   Black    Male           Failed   \n",
       "3   720 ILCS 570/401(d)(i)   Black  Female              NaN   \n",
       "4      720 ILCS 570/402(c)   White    Male              NaN   \n",
       "5      720 ILCS 570/402(c)   White    Male        Graduated   \n",
       "6      720 ILCS 570/402(c)  Latinx    Male        Graduated   \n",
       "7      720 ILCS 570/402(c)   Black    Male        Graduated   \n",
       "8      720 ILCS 570/402(c)   Black    Male        Graduated   \n",
       "9        720 ILCS 550/5(c)   Black    Male              NaN   \n",
       "10     720 ILCS 570/402(c)  Latinx  Female        Graduated   \n",
       "11     720 ILCS 570/402(c)   White  Female        Graduated   \n",
       "12       720 ILCS 550/4(d)   Black    Male           Failed   \n",
       "13     720 ILCS 570/402(c)   White    Male        Graduated   \n",
       "14     720 ILCS 570/402(c)   White  Female        Graduated   \n",
       "15     720 ILCS 570/402(c)   White    Male        Graduated   \n",
       "16     720 ILCS 570/402(c)  Latinx    Male        Graduated   \n",
       "17       720 ILCS 550/4(d)   Black    Male        Graduated   \n",
       "18     720 ILCS 570/402(c)  Latinx  Female              NaN   \n",
       "19     720 ILCS 570/402(c)   White  Female              NaN   \n",
       "\n",
       "     DIVERSION_CLOSED_DATE  \n",
       "0   06/17/2013 12:00:00 AM  \n",
       "1                      NaN  \n",
       "2   09/14/2012 12:00:00 AM  \n",
       "3                      NaN  \n",
       "4                      NaN  \n",
       "5   05/13/2011 12:00:00 AM  \n",
       "6   05/13/2011 12:00:00 AM  \n",
       "7   05/13/2011 12:00:00 AM  \n",
       "8   03/03/2011 12:00:00 AM  \n",
       "9                      NaN  \n",
       "10  02/13/2013 12:00:00 AM  \n",
       "11  05/13/2011 12:00:00 AM  \n",
       "12  05/13/2011 12:00:00 AM  \n",
       "13  05/13/2011 12:00:00 AM  \n",
       "14  05/13/2011 12:00:00 AM  \n",
       "15  05/13/2011 12:00:00 AM  \n",
       "16  05/12/2011 12:00:00 AM  \n",
       "17  05/13/2011 12:00:00 AM  \n",
       "18                     NaN  \n",
       "19                     NaN  "
      ]
     },
     "execution_count": 4,
     "metadata": {},
     "output_type": "execute_result"
    }
   ],
   "source": [
    "df.head(20)"
   ]
  },
  {
   "cell_type": "code",
   "execution_count": 5,
   "metadata": {},
   "outputs": [],
   "source": [
    "summary = DataFrameSummary(df)"
   ]
  },
  {
   "cell_type": "markdown",
   "metadata": {},
   "source": [
    "As seen below, not many nulls as a % of all records for each column:"
   ]
  },
  {
   "cell_type": "code",
   "execution_count": 6,
   "metadata": {},
   "outputs": [
    {
     "data": {
      "text/html": [
       "<div>\n",
       "<style scoped>\n",
       "    .dataframe tbody tr th:only-of-type {\n",
       "        vertical-align: middle;\n",
       "    }\n",
       "\n",
       "    .dataframe tbody tr th {\n",
       "        vertical-align: top;\n",
       "    }\n",
       "\n",
       "    .dataframe thead th {\n",
       "        text-align: right;\n",
       "    }\n",
       "</style>\n",
       "<table border=\"1\" class=\"dataframe\">\n",
       "  <thead>\n",
       "    <tr style=\"text-align: right;\">\n",
       "      <th></th>\n",
       "      <th>counts</th>\n",
       "      <th>uniques</th>\n",
       "      <th>missing</th>\n",
       "      <th>missing_perc</th>\n",
       "      <th>types</th>\n",
       "    </tr>\n",
       "  </thead>\n",
       "  <tbody>\n",
       "    <tr>\n",
       "      <th>CASE_ID</th>\n",
       "      <td>22508</td>\n",
       "      <td>20548</td>\n",
       "      <td>0</td>\n",
       "      <td>0%</td>\n",
       "      <td>numeric</td>\n",
       "    </tr>\n",
       "    <tr>\n",
       "      <th>CASE_PARTICIPANT_ID</th>\n",
       "      <td>22508</td>\n",
       "      <td>21355</td>\n",
       "      <td>0</td>\n",
       "      <td>0%</td>\n",
       "      <td>numeric</td>\n",
       "    </tr>\n",
       "    <tr>\n",
       "      <th>RECEIVED_DATE</th>\n",
       "      <td>22508</td>\n",
       "      <td>3233</td>\n",
       "      <td>0</td>\n",
       "      <td>0%</td>\n",
       "      <td>categorical</td>\n",
       "    </tr>\n",
       "    <tr>\n",
       "      <th>OFFENSE_CATEGORY</th>\n",
       "      <td>22508</td>\n",
       "      <td>56</td>\n",
       "      <td>0</td>\n",
       "      <td>0%</td>\n",
       "      <td>categorical</td>\n",
       "    </tr>\n",
       "    <tr>\n",
       "      <th>DIVERSION_PROGRAM</th>\n",
       "      <td>22508</td>\n",
       "      <td>9</td>\n",
       "      <td>0</td>\n",
       "      <td>0%</td>\n",
       "      <td>categorical</td>\n",
       "    </tr>\n",
       "    <tr>\n",
       "      <th>REFERRAL_DATE</th>\n",
       "      <td>22508</td>\n",
       "      <td>2631</td>\n",
       "      <td>0</td>\n",
       "      <td>0%</td>\n",
       "      <td>categorical</td>\n",
       "    </tr>\n",
       "    <tr>\n",
       "      <th>DIVERSION_COUNT</th>\n",
       "      <td>22508</td>\n",
       "      <td>4</td>\n",
       "      <td>0</td>\n",
       "      <td>0%</td>\n",
       "      <td>numeric</td>\n",
       "    </tr>\n",
       "    <tr>\n",
       "      <th>PRIMARY_CHARGE_OFFENSE_TITLE</th>\n",
       "      <td>22508</td>\n",
       "      <td>230</td>\n",
       "      <td>0</td>\n",
       "      <td>0%</td>\n",
       "      <td>categorical</td>\n",
       "    </tr>\n",
       "    <tr>\n",
       "      <th>STATUTE</th>\n",
       "      <td>22508</td>\n",
       "      <td>303</td>\n",
       "      <td>0</td>\n",
       "      <td>0%</td>\n",
       "      <td>categorical</td>\n",
       "    </tr>\n",
       "    <tr>\n",
       "      <th>RACE</th>\n",
       "      <td>22508</td>\n",
       "      <td>7</td>\n",
       "      <td>0</td>\n",
       "      <td>0%</td>\n",
       "      <td>categorical</td>\n",
       "    </tr>\n",
       "    <tr>\n",
       "      <th>GENDER</th>\n",
       "      <td>22508</td>\n",
       "      <td>3</td>\n",
       "      <td>0</td>\n",
       "      <td>0%</td>\n",
       "      <td>categorical</td>\n",
       "    </tr>\n",
       "    <tr>\n",
       "      <th>DIVERSION_RESULT</th>\n",
       "      <td>17393</td>\n",
       "      <td>2</td>\n",
       "      <td>5115</td>\n",
       "      <td>22.73%</td>\n",
       "      <td>bool</td>\n",
       "    </tr>\n",
       "    <tr>\n",
       "      <th>DIVERSION_CLOSED_DATE</th>\n",
       "      <td>17393</td>\n",
       "      <td>2008</td>\n",
       "      <td>5115</td>\n",
       "      <td>22.73%</td>\n",
       "      <td>categorical</td>\n",
       "    </tr>\n",
       "  </tbody>\n",
       "</table>\n",
       "</div>"
      ],
      "text/plain": [
       "                             counts uniques missing missing_perc        types\n",
       "CASE_ID                       22508   20548       0           0%      numeric\n",
       "CASE_PARTICIPANT_ID           22508   21355       0           0%      numeric\n",
       "RECEIVED_DATE                 22508    3233       0           0%  categorical\n",
       "OFFENSE_CATEGORY              22508      56       0           0%  categorical\n",
       "DIVERSION_PROGRAM             22508       9       0           0%  categorical\n",
       "REFERRAL_DATE                 22508    2631       0           0%  categorical\n",
       "DIVERSION_COUNT               22508       4       0           0%      numeric\n",
       "PRIMARY_CHARGE_OFFENSE_TITLE  22508     230       0           0%  categorical\n",
       "STATUTE                       22508     303       0           0%  categorical\n",
       "RACE                          22508       7       0           0%  categorical\n",
       "GENDER                        22508       3       0           0%  categorical\n",
       "DIVERSION_RESULT              17393       2    5115       22.73%         bool\n",
       "DIVERSION_CLOSED_DATE         17393    2008    5115       22.73%  categorical"
      ]
     },
     "execution_count": 6,
     "metadata": {},
     "output_type": "execute_result"
    }
   ],
   "source": [
    "summary.columns_stats.transpose()"
   ]
  },
  {
   "cell_type": "markdown",
   "metadata": {},
   "source": [
    "Converting all data columns to datatime data types:"
   ]
  },
  {
   "cell_type": "code",
   "execution_count": 7,
   "metadata": {},
   "outputs": [],
   "source": [
    "df['RECEIVED_DATE'] = pd.to_datetime(df['RECEIVED_DATE'], errors='coerce')"
   ]
  },
  {
   "cell_type": "code",
   "execution_count": 8,
   "metadata": {},
   "outputs": [],
   "source": [
    "df['REFERRAL_DATE'] = pd.to_datetime(df['REFERRAL_DATE'], errors='coerce')"
   ]
  },
  {
   "cell_type": "code",
   "execution_count": 9,
   "metadata": {},
   "outputs": [],
   "source": [
    "df['DIVERSION_CLOSED_DATE'] = pd.to_datetime(df['DIVERSION_CLOSED_DATE'], errors='coerce')"
   ]
  },
  {
   "cell_type": "code",
   "execution_count": 10,
   "metadata": {},
   "outputs": [
    {
     "name": "stdout",
     "output_type": "stream",
     "text": [
      "<class 'pandas.core.frame.DataFrame'>\n",
      "RangeIndex: 22508 entries, 0 to 22507\n",
      "Data columns (total 13 columns):\n",
      " #   Column                        Non-Null Count  Dtype         \n",
      "---  ------                        --------------  -----         \n",
      " 0   CASE_ID                       22508 non-null  int64         \n",
      " 1   CASE_PARTICIPANT_ID           22508 non-null  int64         \n",
      " 2   RECEIVED_DATE                 22508 non-null  datetime64[ns]\n",
      " 3   OFFENSE_CATEGORY              22508 non-null  object        \n",
      " 4   DIVERSION_PROGRAM             22508 non-null  object        \n",
      " 5   REFERRAL_DATE                 22508 non-null  datetime64[ns]\n",
      " 6   DIVERSION_COUNT               22508 non-null  int64         \n",
      " 7   PRIMARY_CHARGE_OFFENSE_TITLE  22508 non-null  object        \n",
      " 8   STATUTE                       22508 non-null  object        \n",
      " 9   RACE                          22508 non-null  object        \n",
      " 10  GENDER                        22508 non-null  object        \n",
      " 11  DIVERSION_RESULT              17393 non-null  object        \n",
      " 12  DIVERSION_CLOSED_DATE         17393 non-null  datetime64[ns]\n",
      "dtypes: datetime64[ns](3), int64(3), object(7)\n",
      "memory usage: 2.2+ MB\n"
     ]
    }
   ],
   "source": [
    "df.info()"
   ]
  },
  {
   "cell_type": "code",
   "execution_count": 11,
   "metadata": {},
   "outputs": [
    {
     "data": {
      "text/plain": [
       "(22508, 13)"
      ]
     },
     "execution_count": 11,
     "metadata": {},
     "output_type": "execute_result"
    }
   ],
   "source": [
    "df.shape"
   ]
  },
  {
   "cell_type": "markdown",
   "metadata": {},
   "source": [
    "Dropping rows with missing values which, as seen in previous outputs, aren't many:"
   ]
  },
  {
   "cell_type": "code",
   "execution_count": 12,
   "metadata": {},
   "outputs": [
    {
     "data": {
      "text/plain": [
       "(17393, 13)"
      ]
     },
     "execution_count": 12,
     "metadata": {},
     "output_type": "execute_result"
    }
   ],
   "source": [
    "df.dropna(inplace=True)\n",
    "df.shape"
   ]
  },
  {
   "cell_type": "markdown",
   "metadata": {},
   "source": [
    "Looking at case counts by race:"
   ]
  },
  {
   "cell_type": "code",
   "execution_count": 13,
   "metadata": {},
   "outputs": [
    {
     "data": {
      "text/plain": [
       "RACE\n",
       "Asian        244\n",
       "Biracial      63\n",
       "Black       8803\n",
       "Latinx      2891\n",
       "Other          6\n",
       "Unknown      396\n",
       "White       4990\n",
       "Name: CASE_ID, dtype: int64"
      ]
     },
     "execution_count": 13,
     "metadata": {},
     "output_type": "execute_result"
    }
   ],
   "source": [
    "df.groupby('RACE')['CASE_ID'].count()"
   ]
  },
  {
   "cell_type": "markdown",
   "metadata": {},
   "source": [
    "Visualizing case counts by race:"
   ]
  },
  {
   "cell_type": "code",
   "execution_count": 14,
   "metadata": {},
   "outputs": [
    {
     "data": {
      "image/png": "[encoded data removed]",
      "text/plain": [
       "<Figure size 432x288 with 1 Axes>"
      ]
     },
     "metadata": {},
     "output_type": "display_data"
    }
   ],
   "source": [
    "ax = df['RACE'].value_counts().plot.bar()"
   ]
  },
  {
   "cell_type": "markdown",
   "metadata": {},
   "source": [
    "Visualizing case counts by gender:"
   ]
  },
  {
   "cell_type": "code",
   "execution_count": 15,
   "metadata": {},
   "outputs": [
    {
     "data": {
      "image/png": "[encoded data removed]",
      "text/plain": [
       "<Figure size 432x288 with 1 Axes>"
      ]
     },
     "metadata": {},
     "output_type": "display_data"
    }
   ],
   "source": [
    "ax = df['GENDER'].value_counts().plot.bar()"
   ]
  },
  {
   "cell_type": "markdown",
   "metadata": {},
   "source": [
    "Looking at diversion results by race:"
   ]
  },
  {
   "cell_type": "code",
   "execution_count": 16,
   "metadata": {},
   "outputs": [
    {
     "data": {
      "text/html": [
       "<div>\n",
       "<style scoped>\n",
       "    .dataframe tbody tr th:only-of-type {\n",
       "        vertical-align: middle;\n",
       "    }\n",
       "\n",
       "    .dataframe tbody tr th {\n",
       "        vertical-align: top;\n",
       "    }\n",
       "\n",
       "    .dataframe thead th {\n",
       "        text-align: right;\n",
       "    }\n",
       "</style>\n",
       "<table border=\"1\" class=\"dataframe\">\n",
       "  <thead>\n",
       "    <tr style=\"text-align: right;\">\n",
       "      <th>DIVERSION_RESULT</th>\n",
       "      <th>Failed</th>\n",
       "      <th>Graduated</th>\n",
       "    </tr>\n",
       "    <tr>\n",
       "      <th>RACE</th>\n",
       "      <th></th>\n",
       "      <th></th>\n",
       "    </tr>\n",
       "  </thead>\n",
       "  <tbody>\n",
       "    <tr>\n",
       "      <th>Asian</th>\n",
       "      <td>33</td>\n",
       "      <td>211</td>\n",
       "    </tr>\n",
       "    <tr>\n",
       "      <th>Biracial</th>\n",
       "      <td>23</td>\n",
       "      <td>40</td>\n",
       "    </tr>\n",
       "    <tr>\n",
       "      <th>Black</th>\n",
       "      <td>2578</td>\n",
       "      <td>6225</td>\n",
       "    </tr>\n",
       "    <tr>\n",
       "      <th>Latinx</th>\n",
       "      <td>527</td>\n",
       "      <td>2364</td>\n",
       "    </tr>\n",
       "    <tr>\n",
       "      <th>Other</th>\n",
       "      <td>1</td>\n",
       "      <td>5</td>\n",
       "    </tr>\n",
       "    <tr>\n",
       "      <th>Unknown</th>\n",
       "      <td>29</td>\n",
       "      <td>367</td>\n",
       "    </tr>\n",
       "    <tr>\n",
       "      <th>White</th>\n",
       "      <td>936</td>\n",
       "      <td>4054</td>\n",
       "    </tr>\n",
       "  </tbody>\n",
       "</table>\n",
       "</div>"
      ],
      "text/plain": [
       "DIVERSION_RESULT  Failed  Graduated\n",
       "RACE                               \n",
       "Asian                 33        211\n",
       "Biracial              23         40\n",
       "Black               2578       6225\n",
       "Latinx               527       2364\n",
       "Other                  1          5\n",
       "Unknown               29        367\n",
       "White                936       4054"
      ]
     },
     "execution_count": 16,
     "metadata": {},
     "output_type": "execute_result"
    }
   ],
   "source": [
    "divresult_race = df.groupby(['RACE','DIVERSION_RESULT'])['CASE_ID'].count().unstack().fillna(0)\n",
    "divresult_race"
   ]
  },
  {
   "cell_type": "markdown",
   "metadata": {},
   "source": [
    "Stacked bar chart of diversion results by race"
   ]
  },
  {
   "cell_type": "code",
   "execution_count": 17,
   "metadata": {
    "scrolled": true
   },
   "outputs": [
    {
     "data": {
      "text/plain": [
       "<AxesSubplot:xlabel='RACE'>"
      ]
     },
     "execution_count": 17,
     "metadata": {},
     "output_type": "execute_result"
    },
    {
     "data": {
      "image/png": "[encoded data removed]",
      "text/plain": [
       "<Figure size 432x288 with 1 Axes>"
      ]
     },
     "metadata": {},
     "output_type": "display_data"
    }
   ],
   "source": [
    "divresult_race.plot(kind='bar', stacked=True)\n"
   ]
  },
  {
   "cell_type": "markdown",
   "metadata": {},
   "source": [
    "Looking at diversion results by gender:"
   ]
  },
  {
   "cell_type": "code",
   "execution_count": 18,
   "metadata": {},
   "outputs": [
    {
     "data": {
      "text/html": [
       "<div>\n",
       "<style scoped>\n",
       "    .dataframe tbody tr th:only-of-type {\n",
       "        vertical-align: middle;\n",
       "    }\n",
       "\n",
       "    .dataframe tbody tr th {\n",
       "        vertical-align: top;\n",
       "    }\n",
       "\n",
       "    .dataframe thead th {\n",
       "        text-align: right;\n",
       "    }\n",
       "</style>\n",
       "<table border=\"1\" class=\"dataframe\">\n",
       "  <thead>\n",
       "    <tr style=\"text-align: right;\">\n",
       "      <th>DIVERSION_RESULT</th>\n",
       "      <th>Failed</th>\n",
       "      <th>Graduated</th>\n",
       "    </tr>\n",
       "    <tr>\n",
       "      <th>GENDER</th>\n",
       "      <th></th>\n",
       "      <th></th>\n",
       "    </tr>\n",
       "  </thead>\n",
       "  <tbody>\n",
       "    <tr>\n",
       "      <th>Female</th>\n",
       "      <td>1158</td>\n",
       "      <td>3607</td>\n",
       "    </tr>\n",
       "    <tr>\n",
       "      <th>Male</th>\n",
       "      <td>2953</td>\n",
       "      <td>9430</td>\n",
       "    </tr>\n",
       "    <tr>\n",
       "      <th>Unknown</th>\n",
       "      <td>16</td>\n",
       "      <td>229</td>\n",
       "    </tr>\n",
       "  </tbody>\n",
       "</table>\n",
       "</div>"
      ],
      "text/plain": [
       "DIVERSION_RESULT  Failed  Graduated\n",
       "GENDER                             \n",
       "Female              1158       3607\n",
       "Male                2953       9430\n",
       "Unknown               16        229"
      ]
     },
     "execution_count": 18,
     "metadata": {},
     "output_type": "execute_result"
    }
   ],
   "source": [
    "divresult_gender = df.groupby(['GENDER','DIVERSION_RESULT'])['CASE_ID'].count().unstack().fillna(0)\n",
    "divresult_gender"
   ]
  },
  {
   "cell_type": "markdown",
   "metadata": {},
   "source": [
    "Stacked bar chart of diversion results by race"
   ]
  },
  {
   "cell_type": "code",
   "execution_count": 19,
   "metadata": {
    "scrolled": true
   },
   "outputs": [
    {
     "data": {
      "text/plain": [
       "<AxesSubplot:xlabel='GENDER'>"
      ]
     },
     "execution_count": 19,
     "metadata": {},
     "output_type": "execute_result"
    },
    {
     "data": {
      "image/png": "[encoded data removed]",
      "text/plain": [
       "<Figure size 432x288 with 1 Axes>"
      ]
     },
     "metadata": {},
     "output_type": "display_data"
    }
   ],
   "source": [
    "divresult_gender.plot(kind='bar', stacked=True)\n"
   ]
  },
  {
   "cell_type": "markdown",
   "metadata": {},
   "source": [
    "Case counts by categories:"
   ]
  },
  {
   "cell_type": "code",
   "execution_count": 20,
   "metadata": {},
   "outputs": [
    {
     "data": {
      "text/plain": [
       "OFFENSE_CATEGORY\n",
       "Narcotics                                        12081\n",
       "Retail Theft                                      2200\n",
       "Theft                                              803\n",
       "Burglary                                           518\n",
       "Forgery                                            405\n",
       "Other Offense                                      212\n",
       "Identity Theft                                     173\n",
       "Criminal Damage to Property                        168\n",
       "Possession of Stolen Motor Vehicle                 158\n",
       "Credit Card Cases                                  145\n",
       "Escape - Failure to Return                          89\n",
       "Fraudulent ID                                       88\n",
       "Driving With Suspended Or Revoked License           42\n",
       "Aggravated Battery Police Officer                   40\n",
       "Residential Burglary                                37\n",
       "Aggravated Fleeing and Eluding                      33\n",
       "UUW - Unlawful Use of Weapon                        29\n",
       "Deceptive Practice                                  27\n",
       "Aggravated Battery                                  22\n",
       "Prostitution                                        19\n",
       "Robbery                                             19\n",
       "Aggravated DUI                                      16\n",
       "Fraud                                                8\n",
       "Aggravated Robbery                                   8\n",
       "Impersonating Police Officer                         7\n",
       "Possession Of Burglary Tools                         7\n",
       "Criminal Trespass To Residence                       5\n",
       "Arson                                                4\n",
       "Theft by Deception                                   4\n",
       "Obstructing Justice                                  3\n",
       "Bomb Threat                                          2\n",
       "Aggravated Assault Police Officer                    2\n",
       "Disarming Police Officer                             2\n",
       "Domestic Battery                                     2\n",
       "Home Invasion                                        2\n",
       "Pandering                                            2\n",
       "Reckless Discharge of Firearm                        2\n",
       "Vehicular Hijacking                                  1\n",
       "Official Misconduct                                  1\n",
       "Armed Robbery                                        1\n",
       "Aggravated Identity Theft                            1\n",
       "Possession of Contraband in Penal Institution        1\n",
       "Aggravated Battery With A Firearm                    1\n",
       "Sex Crimes                                           1\n",
       "Stalking                                             1\n",
       "Violation Order Of Protection                        1\n",
       "Name: CASE_ID, dtype: int64"
      ]
     },
     "execution_count": 20,
     "metadata": {},
     "output_type": "execute_result"
    }
   ],
   "source": [
    "df.groupby('OFFENSE_CATEGORY')['CASE_ID'].count().sort_values(ascending=False)"
   ]
  },
  {
   "cell_type": "markdown",
   "metadata": {},
   "source": [
    "Top 5 categories by gender by case count:"
   ]
  },
  {
   "cell_type": "code",
   "execution_count": 21,
   "metadata": {},
   "outputs": [
    {
     "data": {
      "text/html": [
       "<div>\n",
       "<style scoped>\n",
       "    .dataframe tbody tr th:only-of-type {\n",
       "        vertical-align: middle;\n",
       "    }\n",
       "\n",
       "    .dataframe tbody tr th {\n",
       "        vertical-align: top;\n",
       "    }\n",
       "\n",
       "    .dataframe thead th {\n",
       "        text-align: right;\n",
       "    }\n",
       "</style>\n",
       "<table border=\"1\" class=\"dataframe\">\n",
       "  <thead>\n",
       "    <tr style=\"text-align: right;\">\n",
       "      <th>GENDER</th>\n",
       "      <th>Male</th>\n",
       "      <th>Female</th>\n",
       "    </tr>\n",
       "    <tr>\n",
       "      <th>OFFENSE_CATEGORY</th>\n",
       "      <th></th>\n",
       "      <th></th>\n",
       "    </tr>\n",
       "  </thead>\n",
       "  <tbody>\n",
       "    <tr>\n",
       "      <th>Narcotics</th>\n",
       "      <td>9406.0</td>\n",
       "      <td>2614.0</td>\n",
       "    </tr>\n",
       "    <tr>\n",
       "      <th>Retail Theft</th>\n",
       "      <td>1010.0</td>\n",
       "      <td>1121.0</td>\n",
       "    </tr>\n",
       "    <tr>\n",
       "      <th>Burglary</th>\n",
       "      <td>448.0</td>\n",
       "      <td>0.0</td>\n",
       "    </tr>\n",
       "    <tr>\n",
       "      <th>Theft</th>\n",
       "      <td>445.0</td>\n",
       "      <td>320.0</td>\n",
       "    </tr>\n",
       "    <tr>\n",
       "      <th>Forgery</th>\n",
       "      <td>151.0</td>\n",
       "      <td>237.0</td>\n",
       "    </tr>\n",
       "  </tbody>\n",
       "</table>\n",
       "</div>"
      ],
      "text/plain": [
       "GENDER              Male  Female\n",
       "OFFENSE_CATEGORY                \n",
       "Narcotics         9406.0  2614.0\n",
       "Retail Theft      1010.0  1121.0\n",
       "Burglary           448.0     0.0\n",
       "Theft              445.0   320.0\n",
       "Forgery            151.0   237.0"
      ]
     },
     "execution_count": 21,
     "metadata": {},
     "output_type": "execute_result"
    }
   ],
   "source": [
    "topfive_cat_gender = df.groupby(['OFFENSE_CATEGORY','GENDER'])['CASE_ID'].count().sort_values(ascending=False).head(9).unstack().fillna(0)\n",
    "topfive_cat_gender"
   ]
  },
  {
   "cell_type": "markdown",
   "metadata": {},
   "source": [
    "Visualizing top 5 categories by gender by case count via stacked bar chart:"
   ]
  },
  {
   "cell_type": "code",
   "execution_count": 22,
   "metadata": {
    "scrolled": false
   },
   "outputs": [
    {
     "data": {
      "text/plain": [
       "<AxesSubplot:xlabel='OFFENSE_CATEGORY'>"
      ]
     },
     "execution_count": 22,
     "metadata": {},
     "output_type": "execute_result"
    },
    {
     "data": {
      "image/png": "[encoded data removed]",
      "text/plain": [
       "<Figure size 432x288 with 1 Axes>"
      ]
     },
     "metadata": {},
     "output_type": "display_data"
    }
   ],
   "source": [
    "topfive_cat_gender.plot(kind='bar', stacked=True)"
   ]
  },
  {
   "cell_type": "code",
   "execution_count": 3,
   "metadata": {},
   "outputs": [
    {
     "data": {
      "text/html": [
       "<div>\n",
       "<style scoped>\n",
       "    .dataframe tbody tr th:only-of-type {\n",
       "        vertical-align: middle;\n",
       "    }\n",
       "\n",
       "    .dataframe tbody tr th {\n",
       "        vertical-align: top;\n",
       "    }\n",
       "\n",
       "    .dataframe thead th {\n",
       "        text-align: right;\n",
       "    }\n",
       "</style>\n",
       "<table border=\"1\" class=\"dataframe\">\n",
       "  <thead>\n",
       "    <tr style=\"text-align: right;\">\n",
       "      <th>RACE</th>\n",
       "      <th>Black</th>\n",
       "      <th>White</th>\n",
       "      <th>Latinx</th>\n",
       "    </tr>\n",
       "    <tr>\n",
       "      <th>OFFENSE_CATEGORY</th>\n",
       "      <th></th>\n",
       "      <th></th>\n",
       "      <th></th>\n",
       "    </tr>\n",
       "  </thead>\n",
       "  <tbody>\n",
       "    <tr>\n",
       "      <th>Narcotics</th>\n",
       "      <td>7808.0</td>\n",
       "      <td>4406.0</td>\n",
       "      <td>2462.0</td>\n",
       "    </tr>\n",
       "    <tr>\n",
       "      <th>Retail Theft</th>\n",
       "      <td>1605.0</td>\n",
       "      <td>874.0</td>\n",
       "      <td>371.0</td>\n",
       "    </tr>\n",
       "    <tr>\n",
       "      <th>Theft</th>\n",
       "      <td>523.0</td>\n",
       "      <td>0.0</td>\n",
       "      <td>0.0</td>\n",
       "    </tr>\n",
       "    <tr>\n",
       "      <th>Forgery</th>\n",
       "      <td>341.0</td>\n",
       "      <td>0.0</td>\n",
       "      <td>0.0</td>\n",
       "    </tr>\n",
       "    <tr>\n",
       "      <th>Burglary</th>\n",
       "      <td>318.0</td>\n",
       "      <td>0.0</td>\n",
       "      <td>0.0</td>\n",
       "    </tr>\n",
       "  </tbody>\n",
       "</table>\n",
       "</div>"
      ],
      "text/plain": [
       "RACE               Black   White  Latinx\n",
       "OFFENSE_CATEGORY                        \n",
       "Narcotics         7808.0  4406.0  2462.0\n",
       "Retail Theft      1605.0   874.0   371.0\n",
       "Theft              523.0     0.0     0.0\n",
       "Forgery            341.0     0.0     0.0\n",
       "Burglary           318.0     0.0     0.0"
      ]
     },
     "execution_count": 3,
     "metadata": {},
     "output_type": "execute_result"
    }
   ],
   "source": [
    "topfive_cat_race = df.groupby(['OFFENSE_CATEGORY','RACE'])['CASE_ID'].count().sort_values(ascending=False).head(9).unstack().fillna(0)\n",
    "topfive_cat_race"
   ]
  },
  {
   "cell_type": "markdown",
   "metadata": {},
   "source": [
    "Visualizing top 5 categories by gender by case count via stacked bar chart:"
   ]
  },
  {
   "cell_type": "code",
   "execution_count": 4,
   "metadata": {
    "scrolled": true
   },
   "outputs": [
    {
     "data": {
      "text/plain": [
       "<AxesSubplot:xlabel='OFFENSE_CATEGORY'>"
      ]
     },
     "execution_count": 4,
     "metadata": {},
     "output_type": "execute_result"
    },
    {
     "data": {
      "image/png": "[encoded data removed]",
      "text/plain": [
       "<Figure size 432x288 with 1 Axes>"
      ]
     },
     "metadata": {},
     "output_type": "display_data"
    }
   ],
   "source": [
    "topfive_cat_race.plot(kind='bar', stacked=True)"
   ]
  },
  {
   "cell_type": "markdown",
   "metadata": {},
   "source": [
    "A look at diversion result based on diversion program:"
   ]
  },
  {
   "cell_type": "code",
   "execution_count": 23,
   "metadata": {},
   "outputs": [
    {
     "data": {
      "text/html": [
       "<div>\n",
       "<style scoped>\n",
       "    .dataframe tbody tr th:only-of-type {\n",
       "        vertical-align: middle;\n",
       "    }\n",
       "\n",
       "    .dataframe tbody tr th {\n",
       "        vertical-align: top;\n",
       "    }\n",
       "\n",
       "    .dataframe thead th {\n",
       "        text-align: right;\n",
       "    }\n",
       "</style>\n",
       "<table border=\"1\" class=\"dataframe\">\n",
       "  <thead>\n",
       "    <tr style=\"text-align: right;\">\n",
       "      <th>DIVERSION_RESULT</th>\n",
       "      <th>Failed</th>\n",
       "      <th>Graduated</th>\n",
       "    </tr>\n",
       "    <tr>\n",
       "      <th>DIVERSION_PROGRAM</th>\n",
       "      <th></th>\n",
       "      <th></th>\n",
       "    </tr>\n",
       "  </thead>\n",
       "  <tbody>\n",
       "    <tr>\n",
       "      <th>ACT</th>\n",
       "      <td>160</td>\n",
       "      <td>122</td>\n",
       "    </tr>\n",
       "    <tr>\n",
       "      <th>ARI</th>\n",
       "      <td>242</td>\n",
       "      <td>320</td>\n",
       "    </tr>\n",
       "    <tr>\n",
       "      <th>BR9</th>\n",
       "      <td>889</td>\n",
       "      <td>3551</td>\n",
       "    </tr>\n",
       "    <tr>\n",
       "      <th>DC</th>\n",
       "      <td>674</td>\n",
       "      <td>560</td>\n",
       "    </tr>\n",
       "    <tr>\n",
       "      <th>DDPP</th>\n",
       "      <td>818</td>\n",
       "      <td>3773</td>\n",
       "    </tr>\n",
       "    <tr>\n",
       "      <th>DS</th>\n",
       "      <td>681</td>\n",
       "      <td>4164</td>\n",
       "    </tr>\n",
       "    <tr>\n",
       "      <th>MHC</th>\n",
       "      <td>517</td>\n",
       "      <td>476</td>\n",
       "    </tr>\n",
       "    <tr>\n",
       "      <th>RJCC</th>\n",
       "      <td>32</td>\n",
       "      <td>78</td>\n",
       "    </tr>\n",
       "    <tr>\n",
       "      <th>VC</th>\n",
       "      <td>114</td>\n",
       "      <td>222</td>\n",
       "    </tr>\n",
       "  </tbody>\n",
       "</table>\n",
       "</div>"
      ],
      "text/plain": [
       "DIVERSION_RESULT   Failed  Graduated\n",
       "DIVERSION_PROGRAM                   \n",
       "ACT                   160        122\n",
       "ARI                   242        320\n",
       "BR9                   889       3551\n",
       "DC                    674        560\n",
       "DDPP                  818       3773\n",
       "DS                    681       4164\n",
       "MHC                   517        476\n",
       "RJCC                   32         78\n",
       "VC                    114        222"
      ]
     },
     "execution_count": 23,
     "metadata": {},
     "output_type": "execute_result"
    }
   ],
   "source": [
    "divprogram_result = df.groupby(['DIVERSION_PROGRAM','DIVERSION_RESULT'])['CASE_ID'].count().unstack().fillna(0)\n",
    "divprogram_result"
   ]
  },
  {
   "cell_type": "markdown",
   "metadata": {},
   "source": [
    "Visualization of diversion result by diversion program:"
   ]
  },
  {
   "cell_type": "code",
   "execution_count": 24,
   "metadata": {},
   "outputs": [
    {
     "data": {
      "text/plain": [
       "<AxesSubplot:xlabel='DIVERSION_PROGRAM'>"
      ]
     },
     "execution_count": 24,
     "metadata": {},
     "output_type": "execute_result"
    },
    {
     "data": {
      "image/png": "[encoded data removed]",
      "text/plain": [
       "<Figure size 432x288 with 1 Axes>"
      ]
     },
     "metadata": {},
     "output_type": "display_data"
    }
   ],
   "source": [
    "divprogram_result.plot(kind='bar', stacked=True)"
   ]
  },
  {
   "cell_type": "markdown",
   "metadata": {},
   "source": [
    "Diversion result by diversion referrals:"
   ]
  },
  {
   "cell_type": "code",
   "execution_count": 25,
   "metadata": {
    "scrolled": true
   },
   "outputs": [
    {
     "data": {
      "text/html": [
       "<div>\n",
       "<style scoped>\n",
       "    .dataframe tbody tr th:only-of-type {\n",
       "        vertical-align: middle;\n",
       "    }\n",
       "\n",
       "    .dataframe tbody tr th {\n",
       "        vertical-align: top;\n",
       "    }\n",
       "\n",
       "    .dataframe thead th {\n",
       "        text-align: right;\n",
       "    }\n",
       "</style>\n",
       "<table border=\"1\" class=\"dataframe\">\n",
       "  <thead>\n",
       "    <tr style=\"text-align: right;\">\n",
       "      <th>DIVERSION_RESULT</th>\n",
       "      <th>Failed</th>\n",
       "      <th>Graduated</th>\n",
       "    </tr>\n",
       "    <tr>\n",
       "      <th>DIVERSION_COUNT</th>\n",
       "      <th></th>\n",
       "      <th></th>\n",
       "    </tr>\n",
       "  </thead>\n",
       "  <tbody>\n",
       "    <tr>\n",
       "      <th>1</th>\n",
       "      <td>3913.0</td>\n",
       "      <td>12946.0</td>\n",
       "    </tr>\n",
       "    <tr>\n",
       "      <th>2</th>\n",
       "      <td>194.0</td>\n",
       "      <td>319.0</td>\n",
       "    </tr>\n",
       "    <tr>\n",
       "      <th>3</th>\n",
       "      <td>17.0</td>\n",
       "      <td>1.0</td>\n",
       "    </tr>\n",
       "    <tr>\n",
       "      <th>4</th>\n",
       "      <td>3.0</td>\n",
       "      <td>0.0</td>\n",
       "    </tr>\n",
       "  </tbody>\n",
       "</table>\n",
       "</div>"
      ],
      "text/plain": [
       "DIVERSION_RESULT  Failed  Graduated\n",
       "DIVERSION_COUNT                    \n",
       "1                 3913.0    12946.0\n",
       "2                  194.0      319.0\n",
       "3                   17.0        1.0\n",
       "4                    3.0        0.0"
      ]
     },
     "execution_count": 25,
     "metadata": {},
     "output_type": "execute_result"
    }
   ],
   "source": [
    "divresult_count = df.groupby(['DIVERSION_COUNT','DIVERSION_RESULT'])['CASE_ID'].count().unstack().fillna(0)\n",
    "divresult_count"
   ]
  },
  {
   "cell_type": "markdown",
   "metadata": {},
   "source": [
    "Creating a new column in the dataset showing the days between referral & diversion closure:"
   ]
  },
  {
   "cell_type": "code",
   "execution_count": 31,
   "metadata": {},
   "outputs": [
    {
     "data": {
      "text/html": [
       "<div>\n",
       "<style scoped>\n",
       "    .dataframe tbody tr th:only-of-type {\n",
       "        vertical-align: middle;\n",
       "    }\n",
       "\n",
       "    .dataframe tbody tr th {\n",
       "        vertical-align: top;\n",
       "    }\n",
       "\n",
       "    .dataframe thead th {\n",
       "        text-align: right;\n",
       "    }\n",
       "</style>\n",
       "<table border=\"1\" class=\"dataframe\">\n",
       "  <thead>\n",
       "    <tr style=\"text-align: right;\">\n",
       "      <th></th>\n",
       "      <th>CASE_ID</th>\n",
       "      <th>CASE_PARTICIPANT_ID</th>\n",
       "      <th>RECEIVED_DATE</th>\n",
       "      <th>OFFENSE_CATEGORY</th>\n",
       "      <th>DIVERSION_PROGRAM</th>\n",
       "      <th>REFERRAL_DATE</th>\n",
       "      <th>DIVERSION_COUNT</th>\n",
       "      <th>PRIMARY_CHARGE_OFFENSE_TITLE</th>\n",
       "      <th>STATUTE</th>\n",
       "      <th>RACE</th>\n",
       "      <th>GENDER</th>\n",
       "      <th>DIVERSION_RESULT</th>\n",
       "      <th>DIVERSION_CLOSED_DATE</th>\n",
       "      <th>DAYS_BETWEEN_REFERRAL_AND_CLOSURE</th>\n",
       "    </tr>\n",
       "  </thead>\n",
       "  <tbody>\n",
       "    <tr>\n",
       "      <th>0</th>\n",
       "      <td>382673022762</td>\n",
       "      <td>710725949269</td>\n",
       "      <td>2011-01-01</td>\n",
       "      <td>Retail Theft</td>\n",
       "      <td>DS</td>\n",
       "      <td>2013-06-17</td>\n",
       "      <td>2</td>\n",
       "      <td>RETAIL THEFT</td>\n",
       "      <td>720 ILCS 5/16A-3(a)</td>\n",
       "      <td>Black</td>\n",
       "      <td>Male</td>\n",
       "      <td>Graduated</td>\n",
       "      <td>2013-06-17</td>\n",
       "      <td>0</td>\n",
       "    </tr>\n",
       "    <tr>\n",
       "      <th>2</th>\n",
       "      <td>382676253565</td>\n",
       "      <td>710735386491</td>\n",
       "      <td>2011-01-02</td>\n",
       "      <td>Retail Theft</td>\n",
       "      <td>MHC</td>\n",
       "      <td>2012-09-14</td>\n",
       "      <td>1</td>\n",
       "      <td>RETAIL THEFT</td>\n",
       "      <td>720 ILCS 5/16A-3(a)</td>\n",
       "      <td>Black</td>\n",
       "      <td>Male</td>\n",
       "      <td>Failed</td>\n",
       "      <td>2012-09-14</td>\n",
       "      <td>0</td>\n",
       "    </tr>\n",
       "    <tr>\n",
       "      <th>5</th>\n",
       "      <td>382688736212</td>\n",
       "      <td>710769171745</td>\n",
       "      <td>2011-01-03</td>\n",
       "      <td>Narcotics</td>\n",
       "      <td>DS</td>\n",
       "      <td>2011-01-19</td>\n",
       "      <td>1</td>\n",
       "      <td>POSSESSION OF A CONTROLLED SUBSTANCE</td>\n",
       "      <td>720 ILCS 570/402(c)</td>\n",
       "      <td>White</td>\n",
       "      <td>Male</td>\n",
       "      <td>Graduated</td>\n",
       "      <td>2011-05-13</td>\n",
       "      <td>114</td>\n",
       "    </tr>\n",
       "    <tr>\n",
       "      <th>6</th>\n",
       "      <td>382696666364</td>\n",
       "      <td>710792198566</td>\n",
       "      <td>2011-01-03</td>\n",
       "      <td>Narcotics</td>\n",
       "      <td>DS</td>\n",
       "      <td>2011-01-18</td>\n",
       "      <td>1</td>\n",
       "      <td>POSSESSION OF A CONTROLLED SUBSTANCE</td>\n",
       "      <td>720 ILCS 570/402(c)</td>\n",
       "      <td>Latinx</td>\n",
       "      <td>Male</td>\n",
       "      <td>Graduated</td>\n",
       "      <td>2011-05-13</td>\n",
       "      <td>115</td>\n",
       "    </tr>\n",
       "    <tr>\n",
       "      <th>7</th>\n",
       "      <td>382696813219</td>\n",
       "      <td>710792670427</td>\n",
       "      <td>2011-01-03</td>\n",
       "      <td>Narcotics</td>\n",
       "      <td>DS</td>\n",
       "      <td>2011-01-20</td>\n",
       "      <td>1</td>\n",
       "      <td>POSSESSION OF A CONTROLLED SUBSTANCE</td>\n",
       "      <td>720 ILCS 570/402(c)</td>\n",
       "      <td>Black</td>\n",
       "      <td>Male</td>\n",
       "      <td>Graduated</td>\n",
       "      <td>2011-05-13</td>\n",
       "      <td>113</td>\n",
       "    </tr>\n",
       "    <tr>\n",
       "      <th>8</th>\n",
       "      <td>382696960073</td>\n",
       "      <td>710792764800</td>\n",
       "      <td>2011-01-01</td>\n",
       "      <td>Narcotics</td>\n",
       "      <td>DS</td>\n",
       "      <td>2011-03-03</td>\n",
       "      <td>1</td>\n",
       "      <td>POSSESSION OF A CONTROLLED SUBSTANCE</td>\n",
       "      <td>720 ILCS 570/402(c)</td>\n",
       "      <td>Black</td>\n",
       "      <td>Male</td>\n",
       "      <td>Graduated</td>\n",
       "      <td>2011-03-03</td>\n",
       "      <td>0</td>\n",
       "    </tr>\n",
       "    <tr>\n",
       "      <th>10</th>\n",
       "      <td>382699750312</td>\n",
       "      <td>710800597694</td>\n",
       "      <td>2011-01-03</td>\n",
       "      <td>Narcotics</td>\n",
       "      <td>DS</td>\n",
       "      <td>2012-11-26</td>\n",
       "      <td>1</td>\n",
       "      <td>POSSESSION OF A CONTROLLED SUBSTANCE</td>\n",
       "      <td>720 ILCS 570/402(c)</td>\n",
       "      <td>Latinx</td>\n",
       "      <td>Female</td>\n",
       "      <td>Graduated</td>\n",
       "      <td>2013-02-13</td>\n",
       "      <td>79</td>\n",
       "    </tr>\n",
       "    <tr>\n",
       "      <th>11</th>\n",
       "      <td>382705918208</td>\n",
       "      <td>710823341398</td>\n",
       "      <td>2011-01-04</td>\n",
       "      <td>Narcotics</td>\n",
       "      <td>DS</td>\n",
       "      <td>2011-01-19</td>\n",
       "      <td>1</td>\n",
       "      <td>POSSESSION OF A CONTROLLED SUBSTANCE</td>\n",
       "      <td>720 ILCS 570/402(c)</td>\n",
       "      <td>White</td>\n",
       "      <td>Female</td>\n",
       "      <td>Graduated</td>\n",
       "      <td>2011-05-13</td>\n",
       "      <td>114</td>\n",
       "    </tr>\n",
       "    <tr>\n",
       "      <th>12</th>\n",
       "      <td>382706946191</td>\n",
       "      <td>710826266937</td>\n",
       "      <td>2011-01-04</td>\n",
       "      <td>Narcotics</td>\n",
       "      <td>DS</td>\n",
       "      <td>2011-01-19</td>\n",
       "      <td>1</td>\n",
       "      <td>POSSESSION OF CANNABIS</td>\n",
       "      <td>720 ILCS 550/4(d)</td>\n",
       "      <td>Black</td>\n",
       "      <td>Male</td>\n",
       "      <td>Failed</td>\n",
       "      <td>2011-05-13</td>\n",
       "      <td>114</td>\n",
       "    </tr>\n",
       "    <tr>\n",
       "      <th>13</th>\n",
       "      <td>382709736430</td>\n",
       "      <td>710835515414</td>\n",
       "      <td>2011-01-04</td>\n",
       "      <td>Narcotics</td>\n",
       "      <td>DS</td>\n",
       "      <td>2011-01-20</td>\n",
       "      <td>1</td>\n",
       "      <td>POSSESSION OF A CONTROLLED SUBSTANCE</td>\n",
       "      <td>720 ILCS 570/402(c)</td>\n",
       "      <td>White</td>\n",
       "      <td>Male</td>\n",
       "      <td>Graduated</td>\n",
       "      <td>2011-05-13</td>\n",
       "      <td>113</td>\n",
       "    </tr>\n",
       "  </tbody>\n",
       "</table>\n",
       "</div>"
      ],
      "text/plain": [
       "         CASE_ID  CASE_PARTICIPANT_ID RECEIVED_DATE OFFENSE_CATEGORY  \\\n",
       "0   382673022762         710725949269    2011-01-01     Retail Theft   \n",
       "2   382676253565         710735386491    2011-01-02     Retail Theft   \n",
       "5   382688736212         710769171745    2011-01-03        Narcotics   \n",
       "6   382696666364         710792198566    2011-01-03        Narcotics   \n",
       "7   382696813219         710792670427    2011-01-03        Narcotics   \n",
       "8   382696960073         710792764800    2011-01-01        Narcotics   \n",
       "10  382699750312         710800597694    2011-01-03        Narcotics   \n",
       "11  382705918208         710823341398    2011-01-04        Narcotics   \n",
       "12  382706946191         710826266937    2011-01-04        Narcotics   \n",
       "13  382709736430         710835515414    2011-01-04        Narcotics   \n",
       "\n",
       "   DIVERSION_PROGRAM REFERRAL_DATE  DIVERSION_COUNT  \\\n",
       "0                 DS    2013-06-17                2   \n",
       "2                MHC    2012-09-14                1   \n",
       "5                 DS    2011-01-19                1   \n",
       "6                 DS    2011-01-18                1   \n",
       "7                 DS    2011-01-20                1   \n",
       "8                 DS    2011-03-03                1   \n",
       "10                DS    2012-11-26                1   \n",
       "11                DS    2011-01-19                1   \n",
       "12                DS    2011-01-19                1   \n",
       "13                DS    2011-01-20                1   \n",
       "\n",
       "            PRIMARY_CHARGE_OFFENSE_TITLE              STATUTE    RACE  GENDER  \\\n",
       "0                           RETAIL THEFT  720 ILCS 5/16A-3(a)   Black    Male   \n",
       "2                           RETAIL THEFT  720 ILCS 5/16A-3(a)   Black    Male   \n",
       "5   POSSESSION OF A CONTROLLED SUBSTANCE  720 ILCS 570/402(c)   White    Male   \n",
       "6   POSSESSION OF A CONTROLLED SUBSTANCE  720 ILCS 570/402(c)  Latinx    Male   \n",
       "7   POSSESSION OF A CONTROLLED SUBSTANCE  720 ILCS 570/402(c)   Black    Male   \n",
       "8   POSSESSION OF A CONTROLLED SUBSTANCE  720 ILCS 570/402(c)   Black    Male   \n",
       "10  POSSESSION OF A CONTROLLED SUBSTANCE  720 ILCS 570/402(c)  Latinx  Female   \n",
       "11  POSSESSION OF A CONTROLLED SUBSTANCE  720 ILCS 570/402(c)   White  Female   \n",
       "12                POSSESSION OF CANNABIS    720 ILCS 550/4(d)   Black    Male   \n",
       "13  POSSESSION OF A CONTROLLED SUBSTANCE  720 ILCS 570/402(c)   White    Male   \n",
       "\n",
       "   DIVERSION_RESULT DIVERSION_CLOSED_DATE  DAYS_BETWEEN_REFERRAL_AND_CLOSURE  \n",
       "0         Graduated            2013-06-17                                  0  \n",
       "2            Failed            2012-09-14                                  0  \n",
       "5         Graduated            2011-05-13                                114  \n",
       "6         Graduated            2011-05-13                                115  \n",
       "7         Graduated            2011-05-13                                113  \n",
       "8         Graduated            2011-03-03                                  0  \n",
       "10        Graduated            2013-02-13                                 79  \n",
       "11        Graduated            2011-05-13                                114  \n",
       "12           Failed            2011-05-13                                114  \n",
       "13        Graduated            2011-05-13                                113  "
      ]
     },
     "execution_count": 31,
     "metadata": {},
     "output_type": "execute_result"
    }
   ],
   "source": [
    "from datetime import datetime\n",
    "\n",
    "DAYS_BETWEEN_REFERRAL_AND_CLOSURE = (df['DIVERSION_CLOSED_DATE']-df['REFERRAL_DATE']).dt.days\n",
    "df['DAYS_BETWEEN_REFERRAL_AND_CLOSURE'] = DAYS_BETWEEN_REFERRAL_AND_CLOSURE\n",
    "\n",
    "df.head(10)"
   ]
  },
  {
   "cell_type": "markdown",
   "metadata": {},
   "source": [
    "Histogram showing the amt of days between referral & diversion closure dates"
   ]
  },
  {
   "cell_type": "code",
   "execution_count": 33,
   "metadata": {},
   "outputs": [
    {
     "name": "stderr",
     "output_type": "stream",
     "text": [
      "C:\\Users\\jvill\\anaconda3\\lib\\site-packages\\seaborn\\distributions.py:2551: FutureWarning: `distplot` is a deprecated function and will be removed in a future version. Please adapt your code to use either `displot` (a figure-level function with similar flexibility) or `histplot` (an axes-level function for histograms).\n",
      "  warnings.warn(msg, FutureWarning)\n"
     ]
    },
    {
     "data": {
      "text/plain": [
       "(0.0, 1000.0)"
      ]
     },
     "execution_count": 33,
     "metadata": {},
     "output_type": "execute_result"
    },
    {
     "data": {
      "image/png": "[encoded data removed]",
      "text/plain": [
       "<Figure size 432x288 with 1 Axes>"
      ]
     },
     "metadata": {},
     "output_type": "display_data"
    }
   ],
   "source": [
    "sns.distplot(df['DAYS_BETWEEN_REFERRAL_AND_CLOSURE'])\n",
    "plt.xlim(0, 1000)"
   ]
  },
  {
   "cell_type": "markdown",
   "metadata": {},
   "source": [
    "Boxplot showing the days between referral & diversion closure dates in relation to diversion results:"
   ]
  },
  {
   "cell_type": "code",
   "execution_count": 35,
   "metadata": {},
   "outputs": [
    {
     "data": {
      "text/plain": [
       "(0.0, 1000.0)"
      ]
     },
     "execution_count": 35,
     "metadata": {},
     "output_type": "execute_result"
    },
    {
     "data": {
      "image/png": "[encoded data removed]",
      "text/plain": [
       "<Figure size 432x288 with 1 Axes>"
      ]
     },
     "metadata": {},
     "output_type": "display_data"
    }
   ],
   "source": [
    "sns.boxplot(x='DIVERSION_RESULT', y='DAYS_BETWEEN_REFERRAL_AND_CLOSURE',data=df)\n",
    "plt.ylim(0, 1000)"
   ]
  },
  {
   "cell_type": "markdown",
   "metadata": {},
   "source": [
    "Boxplot showing the days between referral & diversion closure dates in relation to race:"
   ]
  },
  {
   "cell_type": "code",
   "execution_count": 39,
   "metadata": {},
   "outputs": [
    {
     "data": {
      "text/plain": [
       "(0.0, 500.0)"
      ]
     },
     "execution_count": 39,
     "metadata": {},
     "output_type": "execute_result"
    },
    {
     "data": {
      "image/png": "[encoded data removed]",
      "text/plain": [
       "<Figure size 432x288 with 1 Axes>"
      ]
     },
     "metadata": {},
     "output_type": "display_data"
    }
   ],
   "source": [
    "sns.boxplot(x='RACE', y='DAYS_BETWEEN_REFERRAL_AND_CLOSURE',data=df)\n",
    "plt.ylim(0, 500)"
   ]
  },
  {
   "cell_type": "markdown",
   "metadata": {},
   "source": [
    "Boxplot showing the days between referral & diversion closure dates in relation to gender:"
   ]
  },
  {
   "cell_type": "code",
   "execution_count": 41,
   "metadata": {},
   "outputs": [
    {
     "data": {
      "text/plain": [
       "(0.0, 1000.0)"
      ]
     },
     "execution_count": 41,
     "metadata": {},
     "output_type": "execute_result"
    },
    {
     "data": {
      "image/png": "[encoded data removed]",
      "text/plain": [
       "<Figure size 432x288 with 1 Axes>"
      ]
     },
     "metadata": {},
     "output_type": "display_data"
    }
   ],
   "source": [
    "sns.boxplot(x='GENDER', y='DAYS_BETWEEN_REFERRAL_AND_CLOSURE',data=df)\n",
    "plt.ylim(0, 1000)"
   ]
  },
  {
   "cell_type": "code",
   "execution_count": 42,
   "metadata": {},
   "outputs": [
    {
     "data": {
      "application/vnd.jupyter.widget-view+json": {
       "model_id": "1bcbe6ab5a5e4397931927b6150e0cde",
       "version_major": 2,
       "version_minor": 0
      },
      "text/plain": [
       "HBox(children=(HTML(value='Summarize dataset'), FloatProgress(value=0.0, max=28.0), HTML(value='')))"
      ]
     },
     "metadata": {},
     "output_type": "display_data"
    },
    {
     "name": "stdout",
     "output_type": "stream",
     "text": [
      "\n"
     ]
    },
    {
     "data": {
      "application/vnd.jupyter.widget-view+json": {
       "model_id": "560cdb7778af4de5a829e998a32acf1b",
       "version_major": 2,
       "version_minor": 0
      },
      "text/plain": [
       "HBox(children=(HTML(value='Generate report structure'), FloatProgress(value=0.0, max=1.0), HTML(value='')))"
      ]
     },
     "metadata": {},
     "output_type": "display_data"
    },
    {
     "name": "stdout",
     "output_type": "stream",
     "text": [
      "\n"
     ]
    },
    {
     "data": {
      "application/vnd.jupyter.widget-view+json": {
       "model_id": "1da30ccc1e834db1939d4668c1dd043b",
       "version_major": 2,
       "version_minor": 0
      },
      "text/plain": [
       "HBox(children=(HTML(value='Render HTML'), FloatProgress(value=0.0, max=1.0), HTML(value='')))"
      ]
     },
     "metadata": {},
     "output_type": "display_data"
    },
    {
     "name": "stdout",
     "output_type": "stream",
     "text": [
      "\n"
     ]
    },
    {
     "data": {
      "application/vnd.jupyter.widget-view+json": {
       "model_id": "aa624223ca9d4ba4a45a514fc056f058",
       "version_major": 2,
       "version_minor": 0
      },
      "text/plain": [
       "HBox(children=(HTML(value='Export report to file'), FloatProgress(value=0.0, max=1.0), HTML(value='')))"
      ]
     },
     "metadata": {},
     "output_type": "display_data"
    },
    {
     "name": "stdout",
     "output_type": "stream",
     "text": [
      "\n"
     ]
    }
   ],
   "source": [
    "# save the auto-EDA report as diversion_eda.html\n",
    "report = ProfileReport(df)\n",
    "report.to_file('JVillafañe_DiversionEDA.html')"
   ]
  },
  {
   "cell_type": "code",
   "execution_count": null,
   "metadata": {},
   "outputs": [],
   "source": []
  }
 ],
 "metadata": {
  "kernelspec": {
   "display_name": "Python 3",
   "language": "python",
   "name": "python3"
  },
  "language_info": {
   "codemirror_mode": {
    "name": "ipython",
    "version": 3
   },
   "file_extension": ".py",
   "mimetype": "text/x-python",
   "name": "python",
   "nbconvert_exporter": "python",
   "pygments_lexer": "ipython3",
   "version": "3.8.5"
  }
 },
 "nbformat": 4,
 "nbformat_minor": 5
}
